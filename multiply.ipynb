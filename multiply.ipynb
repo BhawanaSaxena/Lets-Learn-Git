{
 "cells": [
  {
   "cell_type": "code",
   "execution_count": 1,
   "id": "3a47f8cd",
   "metadata": {},
   "outputs": [
    {
     "data": {
      "text/plain": [
       "47.0"
      ]
     },
     "execution_count": 1,
     "metadata": {},
     "output_type": "execute_result"
    }
   ],
   "source": [
    "def multiply(a,b):\n",
    "    return a*b\n",
    "\n",
    "multiply(23.5,2)"
   ]
  },
  {
   "cell_type": "code",
   "execution_count": 6,
   "id": "db40254b",
   "metadata": {},
   "outputs": [],
   "source": [
    "def multiplyeven(*a):\n",
    "    n = 1\n",
    "    for i in a:\n",
    "        if i%2 == 0:\n",
    "            n=n*i\n",
    "    return n\n",
    "            "
   ]
  },
  {
   "cell_type": "code",
   "execution_count": 10,
   "id": "fccfbcc7",
   "metadata": {},
   "outputs": [
    {
     "data": {
      "text/plain": [
       "3840"
      ]
     },
     "execution_count": 10,
     "metadata": {},
     "output_type": "execute_result"
    }
   ],
   "source": [
    "multiplyeven(1,2,3,4,5,6,7,8,9,10)"
   ]
  },
  {
   "cell_type": "code",
   "execution_count": null,
   "id": "cb4d9df0",
   "metadata": {},
   "outputs": [],
   "source": []
  }
 ],
 "metadata": {
  "kernelspec": {
   "display_name": "Python 3 (ipykernel)",
   "language": "python",
   "name": "python3"
  },
  "language_info": {
   "codemirror_mode": {
    "name": "ipython",
    "version": 3
   },
   "file_extension": ".py",
   "mimetype": "text/x-python",
   "name": "python",
   "nbconvert_exporter": "python",
   "pygments_lexer": "ipython3",
   "version": "3.9.12"
  }
 },
 "nbformat": 4,
 "nbformat_minor": 5
}
