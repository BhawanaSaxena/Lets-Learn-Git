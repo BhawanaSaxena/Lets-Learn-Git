{
 "cells": [
  {
   "cell_type": "code",
   "execution_count": 3,
   "id": "405baa9e",
   "metadata": {},
   "outputs": [
    {
     "data": {
      "text/plain": [
       "94"
      ]
     },
     "execution_count": 3,
     "metadata": {},
     "output_type": "execute_result"
    }
   ],
   "source": [
    "def sum(a,b,c,d):\n",
    "    return a+b+c+d\n",
    "\n",
    "sum(10,30,24,30)"
   ]
  },
  {
   "cell_type": "code",
   "execution_count": 7,
   "id": "f590f5d4",
   "metadata": {},
   "outputs": [
    {
     "name": "stdout",
     "output_type": "stream",
     "text": [
      "Sum of no.s is 120\n"
     ]
    }
   ],
   "source": [
    "print(\"Sum of no.s is\",sum(10,20,40,50))"
   ]
  },
  {
   "cell_type": "code",
   "execution_count": null,
   "id": "a3a3269a",
   "metadata": {},
   "outputs": [],
   "source": []
  }
 ],
 "metadata": {
  "kernelspec": {
   "display_name": "Python 3 (ipykernel)",
   "language": "python",
   "name": "python3"
  },
  "language_info": {
   "codemirror_mode": {
    "name": "ipython",
    "version": 3
   },
   "file_extension": ".py",
   "mimetype": "text/x-python",
   "name": "python",
   "nbconvert_exporter": "python",
   "pygments_lexer": "ipython3",
   "version": "3.9.12"
  }
 },
 "nbformat": 4,
 "nbformat_minor": 5
}
